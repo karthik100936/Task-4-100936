{
  "nbformat": 4,
  "nbformat_minor": 0,
  "metadata": {
    "colab": {
      "provenance": [],
      "authorship_tag": "ABX9TyMRpresYdFdWslBWSMKLRhm",
      "include_colab_link": true
    },
    "kernelspec": {
      "name": "python3",
      "display_name": "Python 3"
    },
    "language_info": {
      "name": "python"
    }
  },
  "cells": [
    {
      "cell_type": "markdown",
      "metadata": {
        "id": "view-in-github",
        "colab_type": "text"
      },
      "source": [
        "<a href=\"https://colab.research.google.com/github/karthik100936/Task-4-100936/blob/main/HU22_CSEN0100936_task_4.ipynb\" target=\"_parent\"><img src=\"https://colab.research.google.com/assets/colab-badge.svg\" alt=\"Open In Colab\"/></a>"
      ]
    },
    {
      "cell_type": "code",
      "execution_count": null,
      "metadata": {
        "colab": {
          "base_uri": "https://localhost:8080/"
        },
        "id": "EIIR_E9qWn5y",
        "outputId": "ac135ef9-1b51-4ba4-e9d8-52c0c69c3e0a"
      },
      "outputs": [
        {
          "output_type": "stream",
          "name": "stdout",
          "text": [
            "Weather solution 1: 2.0\n",
            "Weather solution 2: 1.0\n"
          ]
        }
      ],
      "source": [
        "import math\n",
        "\n",
        "\n",
        "a = 1  # Example value\n",
        "b = -3  # Example value\n",
        "c = 2  # Example value\n",
        "\n",
        "\n",
        "discriminant = b**2 - 4*a*c\n",
        "\n",
        "\n",
        "if discriminant >= 0:\n",
        "\n",
        "    root1 = (-b + math.sqrt(discriminant)) / (2*a)\n",
        "    root2 = (-b - math.sqrt(discriminant)) / (2*a)\n",
        "    print(f\"Weather solution 1: {root1}\")\n",
        "    print(f\"Weather solution 2: {root2}\")\n",
        "else:\n",
        "    print(\"No real solutions\")\n"
      ]
    },
    {
      "cell_type": "markdown",
      "source": [
        "Keyboard Input\n",
        "\n"
      ],
      "metadata": {
        "id": "8MpdMGo3br0F"
      }
    },
    {
      "cell_type": "code",
      "source": [
        "import math\n",
        "\n",
        "# Get input from the user\n",
        "a = float(input(\"Enter the value of a: \"))\n",
        "b = float(input(\"Enter the value of b: \"))\n",
        "c = float(input(\"Enter the value of c: \"))\n",
        "\n",
        "# Calculate discriminant (b^2 - 4ac)\n",
        "discriminant = b**2 - 4*a*c\n",
        "\n",
        "# Check if the discriminant is non-negative\n",
        "if discriminant >= 0:\n",
        "    # Calculate both roots using the quadratic formula\n",
        "    root1 = (-b + math.sqrt(discriminant)) / (2*a)\n",
        "    root2 = (-b - math.sqrt(discriminant)) / (2*a)\n",
        "    print(f\"Weather solution 1: {root1}\")\n",
        "    print(f\"Weather solution 2: {root2}\")\n",
        "else:\n",
        "    print(\"No real solutions\")\n"
      ],
      "metadata": {
        "colab": {
          "base_uri": "https://localhost:8080/"
        },
        "id": "EwWzWXE-bp12",
        "outputId": "affb9906-4bd7-4284-c949-4a9c80015e47"
      },
      "execution_count": null,
      "outputs": [
        {
          "output_type": "stream",
          "name": "stdout",
          "text": [
            "Enter the value of a: 1\n",
            "Enter the value of b: -3\n",
            "Enter the value of c: 2\n",
            "Weather solution 1: 2.0\n",
            "Weather solution 2: 1.0\n"
          ]
        }
      ]
    },
    {
      "cell_type": "markdown",
      "source": [
        "Reading Data from a File"
      ],
      "metadata": {
        "id": "3iZg4I7VckRl"
      }
    },
    {
      "cell_type": "code",
      "source": [
        "import math\n",
        "\n",
        "def solve_quadratic(a, b, c):\n",
        "    discriminant = b**2 - 4*a*c\n",
        "    if discriminant >= 0:\n",
        "        root1 = (-b + math.sqrt(discriminant)) / (2*a)\n",
        "        root2 = (-b - math.sqrt(discriminant)) / (2*a)\n",
        "        return root1, root2\n",
        "    else:\n",
        "        return None\n",
        "\n",
        "# Read from file\n",
        "filename = \"/content/task 4 936.txt\"\n",
        "with open(filename, 'r') as file:\n",
        "    for line in file:\n",
        "        # Parse the coefficients\n",
        "        a, b, c = map(float, line.split())\n",
        "\n",
        "        # Solve quadratic equation\n",
        "        roots = solve_quadratic(a, b, c)\n",
        "        if roots:\n",
        "            print(f\"Solutions for a={a}, b={b}, c={c}: {roots[0]}, {roots[1]}\")\n",
        "        else:\n",
        "            print(f\"No real solutions for a={a}, b={b}, c={c}\")\n"
      ],
      "metadata": {
        "colab": {
          "base_uri": "https://localhost:8080/"
        },
        "id": "K9yT_TZLcuo9",
        "outputId": "6be2c098-536e-4310-fc42-06bcfd945f0b"
      },
      "execution_count": null,
      "outputs": [
        {
          "output_type": "stream",
          "name": "stdout",
          "text": [
            "Solutions for a=1.0, b=-3.0, c=2.0: 2.0, 1.0\n",
            "Solutions for a=-1.0, b=2.0, c=-1.0: 1.0, 1.0\n",
            "Solutions for a=2.0, b=-4.0, c=2.0: 1.0, 1.0\n"
          ]
        }
      ]
    },
    {
      "cell_type": "markdown",
      "source": [
        "Handling Multiple Sets of Inputs"
      ],
      "metadata": {
        "id": "OMuvAREydybd"
      }
    },
    {
      "cell_type": "code",
      "source": [
        "import math\n",
        "\n",
        "def solve_quadratic(a, b, c):\n",
        "    discriminant = b**2 - 4*a*c\n",
        "    if discriminant >= 0:\n",
        "        root1 = (-b + math.sqrt(discriminant)) / (2*a)\n",
        "        root2 = (-b - math.sqrt(discriminant)) / (2*a)\n",
        "        return root1, root2\n",
        "    else:\n",
        "        return None\n",
        "\n",
        "\n",
        "num_sets = int(input(\"Enter the number of quadratic equations: \"))\n",
        "for _ in range(num_sets):\n",
        "    a = float(input(\"Enter the value of a: \"))\n",
        "    b = float(input(\"Enter the value of b: \"))\n",
        "    c = float(input(\"Enter the value of c: \"))\n",
        "\n",
        "    roots = solve_quadratic(a, b, c)\n",
        "    if roots:\n",
        "        print(f\"Solutions: {roots[0]}, {roots[1]}\")\n",
        "    else:\n",
        "        print(\"No real solutions\")\n"
      ],
      "metadata": {
        "colab": {
          "base_uri": "https://localhost:8080/",
          "height": 228
        },
        "id": "0q9VovfydzLE",
        "outputId": "862d759c-bf32-4ea0-e7cb-9c15f41b2c39"
      },
      "execution_count": null,
      "outputs": [
        {
          "name": "stdout",
          "output_type": "stream",
          "text": [
            "Enter the number of quadratic equations: 4.3\n"
          ]
        },
        {
          "output_type": "error",
          "ename": "ValueError",
          "evalue": "invalid literal for int() with base 10: '4.3'",
          "traceback": [
            "\u001b[0;31m---------------------------------------------------------------------------\u001b[0m",
            "\u001b[0;31mValueError\u001b[0m                                Traceback (most recent call last)",
            "\u001b[0;32m<ipython-input-6-239b94c06a62>\u001b[0m in \u001b[0;36m<cell line: 13>\u001b[0;34m()\u001b[0m\n\u001b[1;32m     11\u001b[0m \u001b[0;34m\u001b[0m\u001b[0m\n\u001b[1;32m     12\u001b[0m \u001b[0;34m\u001b[0m\u001b[0m\n\u001b[0;32m---> 13\u001b[0;31m \u001b[0mnum_sets\u001b[0m \u001b[0;34m=\u001b[0m \u001b[0mint\u001b[0m\u001b[0;34m(\u001b[0m\u001b[0minput\u001b[0m\u001b[0;34m(\u001b[0m\u001b[0;34m\"Enter the number of quadratic equations: \"\u001b[0m\u001b[0;34m)\u001b[0m\u001b[0;34m)\u001b[0m\u001b[0;34m\u001b[0m\u001b[0;34m\u001b[0m\u001b[0m\n\u001b[0m\u001b[1;32m     14\u001b[0m \u001b[0;32mfor\u001b[0m \u001b[0m_\u001b[0m \u001b[0;32min\u001b[0m \u001b[0mrange\u001b[0m\u001b[0;34m(\u001b[0m\u001b[0mnum_sets\u001b[0m\u001b[0;34m)\u001b[0m\u001b[0;34m:\u001b[0m\u001b[0;34m\u001b[0m\u001b[0;34m\u001b[0m\u001b[0m\n\u001b[1;32m     15\u001b[0m     \u001b[0ma\u001b[0m \u001b[0;34m=\u001b[0m \u001b[0mfloat\u001b[0m\u001b[0;34m(\u001b[0m\u001b[0minput\u001b[0m\u001b[0;34m(\u001b[0m\u001b[0;34m\"Enter the value of a: \"\u001b[0m\u001b[0;34m)\u001b[0m\u001b[0;34m)\u001b[0m\u001b[0;34m\u001b[0m\u001b[0;34m\u001b[0m\u001b[0m\n",
            "\u001b[0;31mValueError\u001b[0m: invalid literal for int() with base 10: '4.3'"
          ]
        }
      ]
    }
  ]
}